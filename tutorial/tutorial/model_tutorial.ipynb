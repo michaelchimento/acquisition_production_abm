{
 "cells": [
  {
   "cell_type": "markdown",
   "metadata": {},
   "source": [
    "# A walkthrough of the Full Stack Social Learning model\n",
    "\n",
    "## Table of Contents\n",
    "\n",
    "* [Introduction](#introduction)\n",
    "* [Behaviors](#behaviors)\n",
    "* [Agents](#agents)\n",
    "    * [Instance variables: knowledge state, memory and parameter values](#agents_1)\n",
    "    * [Class methods: observation and memory](#agents_2)\n",
    "    * [Class methods: EWA functions](#agents_3)\n",
    "* [NBDA](#NBDA)\n",
    "* [Networks](#networks)\n",
    "* [Simulation](#simulation)\n",
    "    * [Helper functions](#helper-agent)\n",
    "    * [Helper functions: turnover](#helper-turnover)\n",
    "    * [Helper functions: extracting data](#helper-extract)\n",
    "* [Running the simulation](#running)\n",
    "    * [Simulation parameters](#sim_params)\n",
    "    * [Population parameters](#pop_params)\n",
    "    * [EWA parameters](#EWA_params)\n",
    "    * [NBDA parameters](#NBDA_params)\n",
    "    * [Execution](#run_sim)\n",
    "    * [Data management](#data_mgmt)\n",
    "\n",
    "\n",
    "\n",
    "\n",
    "\n",
    "## Introduction <a class=\"anchor\" id=\"introduction\"></a>\n",
    "\n",
    "This companion document is mean to directly show how the FSSL model is implemented in Python3.\n",
    "\n",
    "Let's load the required libraries. The networks of agents are handled by [networkx](https://networkx.org/), a very powerful library that has many options for graph creation. Counter is used to keep track of behavioral frequencies. "
   ]
  },
  {
   "cell_type": "code",
   "execution_count": 191,
   "metadata": {},
   "outputs": [],
   "source": [
    "from collections import Counter\n",
    "import math\n",
    "import sys\n",
    "import networkx as nx\n",
    "import random\n",
    "import numpy as np\n",
    "from os.path import isfile,join\n",
    "import pandas as pd\n",
    "from os import listdir, remove\n",
    "import jdc #cleanly split class definitions"
   ]
  },
  {
   "cell_type": "markdown",
   "metadata": {},
   "source": [
    "## Behaviors <a class=\"anchor\" id=\"behaviors\"></a>\n",
    "\n",
    "We can take advantage of Python's classes and object oriented programming to increase the flexibility of the model, and make life easier when the model becomes complicated. Let's define a class called ```behavior```. Each instance of ```behavior``` will represent a possible behavior that agents will be able to learn during the simulation. Any python class can be given its own variables and methods using ```self.var_name``` convention. Here, we define a initialization method that assigns each instance of a behavior with a name, an associated payoff, and a base hazard rate. The payoff will be used later during the EWA portion of the model, and the base hazard is used in the NBDA portion of the model. The base hazard represents the likelihood of acquiring the behavior at each timestep which is independent of any social or asocial influence. A higher base hazard value essentially means the behavior will be easier to acquire."
   ]
  },
  {
   "cell_type": "code",
   "execution_count": 192,
   "metadata": {},
   "outputs": [],
   "source": [
    "class behavior:\n",
    "    def __init__(self,name,payoff,base_haz):\n",
    "        self.name = name\n",
    "        self.payoff = payoff\n",
    "        self.base_haz = base_haz"
   ]
  },
  {
   "cell_type": "markdown",
   "metadata": {},
   "source": [
    "## Agents <a class=\"anchor\" id=\"agents\"></a>\n",
    "\n",
    "Next, let's define the ```agent``` class. During a simulation, each node in our network will be occupied by an instance of this class.\n",
    "\n",
    "### Instance variables: knowledge state, memory and parameter values <a class=\"anchor\" id=\"agents_1\"></a>\n",
    "We will initialize agents with a few different instance variables, including:\n",
    "\n",
    "* ```self.id``` a unique ID, \n",
    "* ```self.knowledge``` a dictionary that will hold the behaviors that they know, keys are the behavior names, and values are the associated information with each behavior, including its attraction score, individual and social weights for behavior, the final probability of producing the behavior.\n",
    "* ```self.ind_memory``` a list that will hold a history of behaviors that they've produced themselves within the memory window\n",
    "* ```self.temp_social_memory``` a list that is a short-term social memory, which holds all the behaviors that an agent has observed its neighbors produce in the current time step\n",
    "* ```self.long_social_memory``` a list that is a long-term social memory, which holds all the behaviors that an agent has observed its neighbors produce within the memory window.\n",
    "* ```self.exposure``` represents how many timesteps the agent has been in the simulation, or exposed to the simulation environment. This will be later used for informing a population turnover function.\n",
    "* ```self.naive``` a boolean value that represents whether an agent knows any behaviors at all\n",
    "\n",
    "Each agent is also initialized with some parameter values that will affect it's behavioral productions. These parameter values can vary from agent to agent, and can even be redefined using a function, all depending on the requirements of the simulation. This allows for flexible definitions of population heterogeneity. \n",
    "* ```self.s_i``` the agent's social information bias parameter (used in EWA)\n",
    "* ```self.g_i``` the agent's recent information bias parameter (used in EWA)\n",
    "* ```self.conformity``` the agent's conformity exponent (used in EWA)\n",
    "* ```self.inverse_temp``` the agent's sensitivity to differences in attraction scores (used in EWA)"
   ]
  },
  {
   "cell_type": "code",
   "execution_count": 193,
   "metadata": {},
   "outputs": [],
   "source": [
    "class agent:\n",
    "    def __init__(self,ID):\n",
    "        self.id = ID\n",
    "        self.knowledge = {} #name, a_mat, i_mat, s_mat, p_mat\n",
    "        self.ind_memory = []\n",
    "        self.temp_social_memory = []\n",
    "        self.long_social_memory = []\n",
    "        self.exposure = 0\n",
    "        self.naive = True        \n",
    "        #EWA parameters\n",
    "        self.s_i = EWA_s_i\n",
    "        self.g_i = EWA_g_i\n",
    "        self.conformity = EWA_conformity\n",
    "        self.inverse_temp = EWA_inverse_temp "
   ]
  },
  {
   "cell_type": "markdown",
   "metadata": {},
   "source": [
    "### Class methods: observation and memory <a class=\"anchor\" id=\"agents_2\"></a>\n",
    "\n",
    "The following class methods handle aspects of the agents memory of their own productions, and their social productions.\n",
    "\n",
    "* ```observe(behavior)``` is called after each behavior is produced. An agent may only observe it's neighbors, and the observed behavior is added to its short term social memory.\n",
    "* ```consolidate_social_memory()``` is called once per timestep, after all agents have produced their behaviors. It adds the memory from the current timestep to the long term social memory.\n",
    "* ```prune_ind_memory(timestep)``` is called once per timestep and, using a first in, first out (FIFO) rule, removes any behaviors from an agent's individual memory that were produced outside of the memory window.\n",
    "* ```prune_social_memory(timestep)``` is called once per timestep and, using a FIFO rule, removes any behaviors from an agent's social memory that were produced outside of the memory window.\n"
   ]
  },
  {
   "cell_type": "code",
   "execution_count": 194,
   "metadata": {},
   "outputs": [],
   "source": [
    "%%add_to agent\n",
    "\n",
    "def observe(self,behavior):\n",
    "    if behavior in self.knowledge:\n",
    "        self.temp_social_memory.append(behavior)\n",
    "        #print(\"observation by {}: {}\".format(self.id, self.knowledge[behavior]))\n",
    "\n",
    "def prune_ind_memory(self,timestep):\n",
    "    if timestep >= memory_window:\n",
    "        self.ind_memory.pop(0)\n",
    "\n",
    "def prune_social_memory(self,timestep):\n",
    "    if timestep >= memory_window:\n",
    "        self.long_social_memory.pop(0)\n",
    "\n",
    "def consolidate_social_memory(self):\n",
    "    self.long_social_memory.append(self.temp_social_memory)\n"
   ]
  },
  {
   "cell_type": "markdown",
   "metadata": {},
   "source": [
    "### Class methods: EWA functions <a class=\"anchor\" id=\"agents_3\"></a>\n",
    "\n",
    "Each agent contains a method that calculate an attraction score from received behavioral payoffs. This attraction score is turned into an individual weight using a softmax function. The agents also keep track of what behaviors their neighbors produce within the memory window. These values are turned into a social weight. Finally, the individual and social weights are combined into a final probability that the agents would produce a given behavior.\n",
    "\n",
    "```A_mat_update(behavior)``` updates an agent's attraction score matrix using the following equation: $A_{kt} = g_i\\pi_k + (1-g_i)A_{k,t-1}$"
   ]
  },
  {
   "cell_type": "code",
   "execution_count": 195,
   "metadata": {},
   "outputs": [],
   "source": [
    "%%add_to agent\n",
    "def A_mat_update(self, behavior):\n",
    "    reward = all_behaviors[behavior].payoff\n",
    "    new_A_kit = (1 - self.g_i) * self.knowledge[behavior][\"a_mat\"] + self.g_i * reward\n",
    "    self.knowledge[behavior][\"a_mat\"] = new_A_kit"
   ]
  },
  {
   "cell_type": "markdown",
   "metadata": {},
   "source": [
    "```I_mat_update(behavior)``` updates an agent's individual weight matrix using the following equation: $I_{kt} = \\frac{exp(\\tau A_{kt})}{\\sum_m{exp(\\tau A_{mt})}}$. The use of the softmax equation here guarantees that the sum of all values for known behaviors is 1."
   ]
  },
  {
   "cell_type": "code",
   "execution_count": 196,
   "metadata": {},
   "outputs": [],
   "source": [
    "%%add_to agent\n",
    "def I_mat_update(self):\n",
    "    A_mat = np.array([behavior[\"a_mat\"] for behavior in self.knowledge.values()])\n",
    "    exp_A_mat = np.exp(np.multiply(A_mat, self.inverse_temp))\n",
    "    for count, behavior in enumerate(self.knowledge.values()):\n",
    "        behavior[\"i_mat\"] = np.clip(exp_A_mat[count] / np.sum(exp_A_mat),0,1)"
   ]
  },
  {
   "cell_type": "markdown",
   "metadata": {},
   "source": [
    "```S_mat_update(behavior)``` updates an agent's social weight matrix using the following equation: $S_{kt} = \\frac{n^\\lambda_{kt}}{\\sum_{m}^K{n^\\lambda_{mt}}}$. This equation ensures that the values for each known behavior are bounded between 0 and 1. First the long term memory is flattened. $n$ values are determined using the ```count()``` function on the long term memory list. The denominator is calculated first to save later computation, and then each new social weight matrix value is calculated for known behaviors, and written into the knowledge dictionary under that behavior key's ```[\"s_mat\"]``` value."
   ]
  },
  {
   "cell_type": "code",
   "execution_count": 197,
   "metadata": {},
   "outputs": [],
   "source": [
    "%%add_to agent\n",
    "def S_mat_update(self):\n",
    "    social_memory = [item for subl in self.long_social_memory for item in subl]\n",
    "    if len(social_memory)>0:\n",
    "        denom=0\n",
    "        for behavior in self.knowledge.keys():\n",
    "            denom += social_memory.count(behavior)**self.conformity\n",
    "        for behavior in self.knowledge.keys():\n",
    "            new_S_kit = ((social_memory.count(behavior)**self.conformity) / denom)\n",
    "            self.knowledge[behavior][\"s_mat\"] = np.clip(new_S_kit,0,1)\n",
    "    else:\n",
    "        for count,behavior in enumerate(self.knowledge.values()):\n",
    "            new_S_kit = 0\n",
    "            behavior[\"s_mat\"] = new_S_kit"
   ]
  },
  {
   "cell_type": "markdown",
   "metadata": {},
   "source": [
    "```P_mat_update(behavior)``` updates an agent's probability matrix using the following equation: $P_{kit} = (1-s_i)I_{kit} + s_iS_{kit}$. If an agent has no experience observing others, the value from their individual weight matrix is the final production probability."
   ]
  },
  {
   "cell_type": "code",
   "execution_count": 198,
   "metadata": {},
   "outputs": [],
   "source": [
    "%%add_to agent\n",
    "def P_mat_update(self):\n",
    "    social_memory = np.array([x[\"s_mat\"] for x in self.knowledge.values()])\n",
    "    if social_memory.any():\n",
    "        for behavior in self.knowledge.values():\n",
    "            behavior[\"p_mat\"] = (1 - self.s_i)*behavior[\"i_mat\"] + self.s_i*behavior[\"s_mat\"]\n",
    "            assert 0 <= behavior[\"p_mat\"] <=1, \"p_mat value exceeds [0,1] boundaries: {}\".format(behavior[\"p_mat\"])\n",
    "    else:\n",
    "        for behavior in self.knowledge.values():\n",
    "            behavior[\"p_mat\"] = behavior[\"i_mat\"]\n",
    "            assert 0 <= behavior[\"p_mat\"] <=1, \"p_mat value exceeds [0,1] boundaries: {}\".format(behavior[\"p_mat\"])"
   ]
  },
  {
   "cell_type": "markdown",
   "metadata": {},
   "source": [
    "Finally, we need the agents to do something with the knowledge they have. They can produce behaviors using the following method. This creates a list of possible behaviors from their knowledge dictionary keys. One behavior is chosen from using Numpy's ```random.choice()``` function, with the probability values passed as the probability argument to weight the choice.\n",
    "\n",
    "That behavior is then added to the agent's individual memory, and is passed to ```A_mat_update()``` to update attraction, then individual weight, and finally probability (in case the simulation allows for more than one behavioral production per timestep). The name of the behavior produced is returned."
   ]
  },
  {
   "cell_type": "code",
   "execution_count": 199,
   "metadata": {},
   "outputs": [],
   "source": [
    "%%add_to agent\n",
    "def produceBehavior(self):\n",
    "    #print(\"Agent{} produceBehavior(). P_mat is {}\".format(self.id, self.P_mat))\n",
    "    behavior_choices = [behavior for behavior in self.knowledge.keys()]\n",
    "    #print(behavior_choices)\n",
    "    p_mat = np.array([x[\"p_mat\"] for x in self.knowledge.values()])\n",
    "\n",
    "    #prevent negative values from floating point error\n",
    "    p_mat = np.clip(p_mat, 0, 1)\n",
    "\n",
    "    #choose production with probability from p_mat\n",
    "    try:\n",
    "        production = np.random.choice(behavior_choices, p=p_mat)\n",
    "    except:\n",
    "        print(p_mat)\n",
    "        sys.exit()\n",
    "\n",
    "    #adds production string to memory\n",
    "    self.ind_memory.append(production)\n",
    "\n",
    "    #update payoff, attraction and probability for next production\n",
    "    self.A_mat_update(production)\n",
    "    self.I_mat_update()\n",
    "    self.P_mat_update()\n",
    "\n",
    "    return production"
   ]
  },
  {
   "cell_type": "markdown",
   "metadata": {},
   "source": [
    "The final method definition in the agent class is ```acquire_behavior(G)``` which takes the social network object G as an argument, is run once per timestep, and determines whether agents learn a behavior in a given timestep. First, it creates a list of neighboring nodes of the focal agent. Then, for every behavior that's not known to the focal agent, it calculates the probability of acquisition. This requires the use of the NBDA equation, which takes into account information about the agent's neighbors. This will be covered in the next section. Then, a random number between $[0,1)$ is generated, and if this number is smaller than the acquisition probability, the focal agent acquires the behavior. "
   ]
  },
  {
   "cell_type": "code",
   "execution_count": 200,
   "metadata": {},
   "outputs": [],
   "source": [
    "%%add_to agent\n",
    "def acquire_behavior(self, G):\n",
    "    neighbors = [node for node in G.neighbors(self.id)]\n",
    "\n",
    "    for behavior.name in all_behaviors:\n",
    "        if behavior.name not in self.knowledge.keys():\n",
    "            acquisition_prob = lambda_t(behavior.name,neighbors,G)\n",
    "            assert 0 <= acquisition_prob <=1, \"resulting acquision prob from NBDA must be between 0 and 1\"\n",
    "            if random.random() < acquisition_prob:\n",
    "                #print(\"Agent {} learned behavior {}\".format(self.id, behavior.name))\n",
    "                self.knowledge[behavior.name] = {\"a_mat\": 0,\"i_mat\": 0,\"s_mat\":0,\"p_mat\":0}\n",
    "                #we can conservatively assume that the behavior has been seen at least once\n",
    "                self.long_social_memory.append([behavior.name])\n",
    "                self.I_mat_update()\n",
    "                self.S_mat_update()\n",
    "                self.P_mat_update()\n",
    "                self.naive=False"
   ]
  },
  {
   "cell_type": "markdown",
   "metadata": {},
   "source": [
    "## NBDA <a class=\"anchor\" id=\"NBDA\"></a>\n",
    "\n",
    "While the production probabilities are handled by methods in the ```agent``` class, the calculation of acquisition probabilities by NBDA equations is handled by the following modular series of functions. The basic form of NBDA is given by $\\lambda_i(t) = \\lambda_0(t)(T(a_i,z(t))+A)(1-z_i(t))$.\n",
    "\n",
    "* $\\lambda_i(tk)$ - the rate of transmission for individual $i$ at time $t$ for behavior $k$.\n",
    "* $ \\lambda_0(tk)$ - the baseline (hazard) rate of transmission at time $t$ for behavior $k$\n",
    "* $(T(a_i,z(tk))) = s\\sum{a_{ij}z_{jk}(t)}$ - the transmission function, which can be represented by a variety of forms accommodating simple or complex contagion. This is composed of:\n",
    " + $s$ - the rate of social acquisition per unit connection, and can take values from $[0,\\infty]$\n",
    " + $a_i$ - the association matrix for the focal individual representing all connections to neighbors\n",
    " + $z(t) = \\frac{n_{kjt}}{\\sum_m{n_{mjt}}}$ - usually in NBDA, this is a binary variable, representing the knowledge state of the neighbor. However, in the FSSL model, this takes a value between 0 or 1, such that it includes information about the production frequency of the behavior within the memory window.\n",
    "* $A$ - is the presence of asocial learning, in this version of the model it's binary, but could be further defined by ILVs\n",
    "* $(1-z_i(t))$ ensures the equation equals zero if the behavior is already known.\n",
    "\n",
    "We will cover how this is implemented in detail below.\n",
    "\n",
    "First, we have a convenience function that is called within the simulation, once per timestep, that loops through all agents and calls the ```acquire_behavior()``` method.\n"
   ]
  },
  {
   "cell_type": "markdown",
   "metadata": {},
   "source": [
    "In the preceeding code section for the agent method ```acquire_behavior()```, ```acquisition_prob``` requires a call to ```lambda_t()```. This function is at the \"top\" level of NBDA, and first calculates the value for $T(a_i,z(t)))$, $A$, and with those then $\\lambda_i(tk)$. That value is a rate, which is converted into a probability using $P(acquire)=1-exp(-\\lambda_i(t))$. This probability is returned for further use in ```acquisition_prob()```."
   ]
  },
  {
   "cell_type": "code",
   "execution_count": 201,
   "metadata": {},
   "outputs": [],
   "source": [
    "#calculates the acquisition rate of a behavior given the productions of the neighbors\n",
    "#all neighbors are considered as equivalently associated, but this could be changed by adding a term\n",
    "def lambda_t(behavior, neighbors, G):\n",
    "\n",
    "    transmission_func = transmission_function(behavior, neighbors, G)\n",
    "\n",
    "    asocial_learning_func = A_param()\n",
    "\n",
    "    #lambda(t) = baseline rate function*(transmission_func + ind_learning_parameters)\n",
    "    acq_rate = all_behaviors[behavior].base_haz * (transmission_func + asocial_learning_func)\n",
    "\n",
    "    #convert from rate to probability within the last timestep that an agent has acquired the behavior\n",
    "    acq_prob = 1-math.exp( -acq_rate )\n",
    "\n",
    "    return acq_prob"
   ]
  },
  {
   "cell_type": "markdown",
   "metadata": {},
   "source": [
    "The ```transmission_function()``` takes information about the knowledge states of neighbors and multiplies it by the $s$ parameter, which represents the strength of social learning. Here, we have implemented several forms which this function could take, whose definitions are taken from (Firth et al., 2020).\n",
    "\n",
    "* ```NBDA_type=0``` the \"default\" NBDA, in which $s$ is unbounded and $z_{jk}(t)$ is passed as its raw form.\n",
    "* ```NBDA_type=1``` NBDA in which $s$ and $A$ are linked ($A=1-s$) and bounded between $[0,1]$.\n",
    "* ```NBDA_type=2``` \"proportional rule\" NBDA, $z_{jk}(t)$ is normalized by the total number of neighbors.\n",
    "* ```NBDA_type=3``` \"frequency dependent rule\" NBDA, $z_{jk}(t)$ is exponentiated by a conformity exponent, in the same manner as in the EWA equations. The exponent here takes the value from the EWA parameters, although this does not have to be the case and the two could vary independently. This form of NBDA is untested in the current manuscript."
   ]
  },
  {
   "cell_type": "code",
   "execution_count": 202,
   "metadata": {},
   "outputs": [],
   "source": [
    "#this is the function T((a_i,z(t))) (Firth 2020)\n",
    "def transmission_function(behavior,neighbors,G):\n",
    "\n",
    "    z_jt_param = z_jt(behavior, neighbors, G)\n",
    "\n",
    "    #Hoppitt_Laland 2013 General form, s is unbounded\n",
    "    #lambda(t) = baseline rate function*(rate of acquisition * sum(a_ij*z_j(t)) + A)\n",
    "    if NBDA_type == 0 or NBDA_type == 1:\n",
    "        transmission_func = s_param * z_jt_param\n",
    "\n",
    "    #Proportional rule model Firth 2020\n",
    "    elif NBDA_type == 2:\n",
    "        assert z_jt_type == \"binary\", \"z_jt must be binary to appropriately calculate NBDA type 2 (proportional rule)\"\n",
    "        transmission_func = s_param * (z_jt_param / len(neighbors))\n",
    "\n",
    "    #Freq dependent rule model Firth 2020\n",
    "    elif NBDA_type == 3:\n",
    "        assert z_jt_type==\"binary\", \"z_jt must be binary to appropriately calculate NBDA type 3 (conformity rule)\"\n",
    "        transmission_func = s_param * (z_jt_param**NBDA_conformity / (z_jt_param ** NBDA_conformity + (z_jt_param - len(neighbors)) ** NBDA_conformity))\n",
    "\n",
    "    return transmission_func"
   ]
  },
  {
   "cell_type": "markdown",
   "metadata": {},
   "source": [
    "The transmission function first makes a call to the ```z_jt``` function to get its value. The form is determined by the simulation variable ```z_jt_type```. The standard NBDA is ```binary```, where a knowledgeable neighbor counts as +1. Setting this in FSSL decouples EWA from NBDA, and is included here for the purpose of comparison of simulations in which the two models are not allowed to inform each other. FSSL is meant to run with type ```proportional```, in which information about how frequently the neighbor produced the behavior is included in their contribution to the value of $z_{jk}(t)$. This is done by dividing the number of behavioral productions of a given behavior by the total number of behaviors produced, such that a neighbors contribution can range from $[0,1]$."
   ]
  },
  {
   "cell_type": "code",
   "execution_count": 203,
   "metadata": {},
   "outputs": [],
   "source": [
    "#loops through neighbors and produces either a binary or proportion of all behaviors produced by each neighbor which are a given behavior. This value is then summed for all neighbors of the focal individual.\n",
    "def z_jt(behavior, neighbors, G):\n",
    "    z_jt = 0\n",
    "\n",
    "    for neighbor in neighbors:\n",
    "        if behavior in G.nodes[neighbor][\"data\"].knowledge.keys():\n",
    "            #Values range integers between [0,length(neighbors)]\n",
    "            if z_jt_type==\"binary\":\n",
    "                z_jt += 1\n",
    "            #Values range continuously from [0,length(neighbors)] with each neighbor weighted in proportion to solution type\n",
    "            elif z_jt_type==\"proportional\":\n",
    "            \t#how many times a neighbor produces the behavior, over the total # of behaviors produced within the memory window\n",
    "                z_jt += G.nodes[neighbor][\"data\"].ind_memory.count(behavior)/memory_window\n",
    "\n",
    "    return z_jt"
   ]
  },
  {
   "cell_type": "markdown",
   "metadata": {},
   "source": [
    "For future extensibility, the value of $A$ is defined as a function. This function could eventually make use of ILVs to calculate it's value. In this version, the function first checks the value of simulation variable ```asocial_learning```. If this is false, $A=0$. If this is true and the NBDA is of the bounded form ```NBDA_type=1```, $A=1-s$. Otherwise, $A=1$, which is now the accepted \"default\" in much of the literature."
   ]
  },
  {
   "cell_type": "code",
   "execution_count": 204,
   "metadata": {},
   "outputs": [],
   "source": [
    "#returns the second half of the NBDA equation relating to individual learning. Simplest case is a value of 1 or 0, but could take ind level variables\n",
    "def A_param():\n",
    "    if asocial_learning:\n",
    "        if NBDA_type==\"1\":\n",
    "            assert 0 <= s_param <=1, \"s parameter must take a value between 0 and 1 for this type of NBDA.\"\n",
    "            asocial_learning_func=1-s_param\n",
    "        else:\n",
    "            asocial_learning_func=1\n",
    "    else:\n",
    "        asocial_learning_func=0\n",
    "\n",
    "    return asocial_learning_func"
   ]
  },
  {
   "cell_type": "markdown",
   "metadata": {},
   "source": [
    "## Networks <a class=\"anchor\" id=\"networks\"></a>\n",
    "\n",
    "Key to these simulations is that agents are situated within a social network. This is generated using the following function, which employs the ```networkx``` library. This is a powerful library with many pre-made network generation functions available. The full list at time of publication is [available here](https://networkx.org/documentation/stable/reference/generators.html). The type of graph is defined using the simulation parameter ```graph_type```. We have included options for complete networks and random Erdős-Rényi graphs, and the import of a custom graph from an adjacency list. However, this function can be easily modified with other options.\n",
    "\n",
    "Once the graph is created, each node is populated with an instance of the agent class as it's ```data``` key (each node is defined as a dictionary in networkx). Once an agent is created, a dice is rolled to see whether they will be initially knowledgable, governed by the simulation variable ```intial_knowledgable_prop```. The agent is then preprogrammed with knowledge of behavior \"a\", an intial attraction score, and a memory of socially observing the behavior. How this is done is totally up to the design and purpose of the simulation."
   ]
  },
  {
   "cell_type": "code",
   "execution_count": 205,
   "metadata": {},
   "outputs": [],
   "source": [
    "def generate_network(graph_type):\n",
    "    if graph_type == \"complete\":\n",
    "        G = nx.complete_graph(N)\n",
    "    elif graph_type == \"random\":\n",
    "        G = nx.fast_gnp_random_graph(N, .25)\n",
    "    elif graph_type == \"custom_adj_list\":\n",
    "        G = nx.read_adjlist(custom_adj_list_filename)\n",
    "    for x in list(G.nodes()):\n",
    "        G.nodes[x]['data'] = agent(x)\n",
    "        if random.random() <= initial_knowledgable_prop:\n",
    "            G.nodes[x]['data'].knowledge[\"a\"] = {\"a_mat\": 10,\"i_mat\": 0,\"s_mat\":0,\"p_mat\":0}\n",
    "            G.nodes[x]['data'].long_social_memory.append([\"a\"])\n",
    "            G.nodes[x]['data'].I_mat_update()\n",
    "            G.nodes[x]['data'].P_mat_update()\n",
    "            G.nodes[x]['data'].naive=False\n",
    "    return G"
   ]
  },
  {
   "cell_type": "markdown",
   "metadata": {},
   "source": [
    "## Simulation <a class=\"anchor\" id=\"simulation\"></a>\n",
    "\n",
    "We will now cover the structure of the simulation, and review the various helper functions it requires.\n",
    "\n",
    "1. We assign the simulation a unique number\n",
    "2. We create a csv to hold the data output\n",
    "3. We generate a unique network for the simulation and populate it with agents\n",
    "4. We begin a loop with one pass per timestep. In this loop:\n",
    "    1. A counter object is created to keep track of the frequencies of each behavior\n",
    "    2. A list of knowledgable agents is created. \n",
    "    3. Each knowledgable agent produces 1 behavior, which is added to the `beh_freqs` counter.\n",
    "    4. After all knowledgable agents have produced their behavior for the timestep, every agent in the population \n",
    "        * consolidates their short term social memory into long term memory\n",
    "        * prunes any individual memory that lays beyond the memory window\n",
    "        * prunes any social observation memory that lays beyond the memory window\n",
    "        * updates their social weight matrix and probability matrix\n",
    "    6. The number knowledgable of the novel behavior is counted.\n",
    "    7. All relevant data is written to the csv.\n",
    "    8. Agents update their knowledge states using the NBDA equations. Here they may acquire a new behavior to produce in the next time step.\n",
    "    9. Agents update their `exposure` variable, which is a count of how many time steps they have existed in the simulation\n",
    "    10. If there is turnover and the timestep is one in which turnover occurs, the oldest agents are replaced with new agents.\n",
    "5. When all timesteps have passed, the simulation ends.\n"
   ]
  },
  {
   "cell_type": "code",
   "execution_count": 206,
   "metadata": {},
   "outputs": [],
   "source": [
    "def simulation():\n",
    "    global master_sim_num\n",
    "    sim_num = master_sim_num\n",
    "    master_sim_num += 1\n",
    "    \n",
    "    #create csv file with headers\n",
    "    file_path = join(directory_path,\"output_turnover_{}_gtype_{}_sim_{}.csv\".format(turnover,graph_type, sim_num))\n",
    "    create_csv(file_path)\n",
    "\n",
    "    #create network populated with agents\n",
    "    G = generate_network(graph_type)\n",
    "    \n",
    "    print(\"simulation{} EWA(s_i{} g_i{} conformity{} inverse_temp{}) NBDA(s_param{}, z_jt_type{}, memory_window{})\".format(sim_num,EWA_s_i,EWA_g_i,EWA_conformity,EWA_inverse_temp,s_param,z_jt_type,memory_window))\n",
    "\n",
    "\n",
    "    for timestep in range(t_steps):\n",
    "        #print(\"**** the timestep {} starts\".format(timestep))\n",
    "\n",
    "        #create counter object to keep track of frequencies of behaviors for this timestep\n",
    "        beh_freqs = Counter()\n",
    "        for behavior in all_behaviors.values():\n",
    "            beh_freqs[behavior.name] += 0\n",
    "\n",
    "        #create list of knowledgable agents\n",
    "        knowledgable = [agent for agent in range(N) if G.nodes[agent][\"data\"].naive == False ]\n",
    "\n",
    "        #let knowledgable individuals produce given number of behaviors\n",
    "        for individual in knowledgable:\n",
    "            for interactions in range(beh_per_TS):\n",
    "                beh = production_event(G, individual)\n",
    "                #print(beh)\n",
    "                beh_freqs[beh] += 1\n",
    "\n",
    "        #resolves internal counts to the memory window\n",
    "        for agent in range(N):\n",
    "            G.nodes[agent][\"data\"].consolidate_social_memory()\n",
    "            G.nodes[agent][\"data\"].prune_ind_memory(timestep)\n",
    "            G.nodes[agent][\"data\"].prune_social_memory(timestep)\n",
    "            G.nodes[agent][\"data\"].S_mat_update()\n",
    "            G.nodes[agent][\"data\"].P_mat_update()\n",
    "\n",
    "        #update social cue matrix once per timestep\n",
    "        update_s_mat(G)\n",
    "\n",
    "        know_novel = [agent for agent in range(N) if \"b\" in G.nodes[agent][\"data\"].knowledge.keys()]\n",
    "        num_know_novel = len(know_novel)\n",
    "\n",
    "        #write data\n",
    "        write_csv(file_path,sim_num,timestep,num_know_novel,beh_freqs)\n",
    "\n",
    "        NBDA(G)\n",
    "\n",
    "        update_exposure(G)\n",
    "        if turnover:\n",
    "            if (timestep+1)%turnover_interval == 0:\n",
    "                turnover_event(G,timestep)"
   ]
  },
  {
   "cell_type": "markdown",
   "metadata": {},
   "source": [
    "### Helper functions <a class=\"anchor\" id=\"helper-agent\"></a>"
   ]
  },
  {
   "cell_type": "code",
   "execution_count": 207,
   "metadata": {},
   "outputs": [],
   "source": [
    "def production_event(G, producer):\n",
    "    beh_production = G.nodes[producer][\"data\"].produceBehavior()\n",
    "\n",
    "    neighbors = [node for node in G.neighbors(producer)]\n",
    "    for neighbor in neighbors:\n",
    "        G.nodes[neighbor][\"data\"].observe(beh_production)\n",
    "    return beh_production"
   ]
  },
  {
   "cell_type": "code",
   "execution_count": 208,
   "metadata": {},
   "outputs": [],
   "source": [
    "def NBDA(G):\n",
    "    for agent in list(G.nodes()):\n",
    "        G.nodes[agent][\"data\"].acquire_behavior(G)"
   ]
  },
  {
   "cell_type": "markdown",
   "metadata": {},
   "source": [
    "### Helper functions: turnover <a class=\"anchor\" id=\"helper-turnover\"></a>"
   ]
  },
  {
   "cell_type": "code",
   "execution_count": 209,
   "metadata": {},
   "outputs": [],
   "source": [
    "def update_exposure(G):\n",
    "    for agent in list(G.nodes()):\n",
    "        G.nodes[agent][\"data\"].exposure += 1"
   ]
  },
  {
   "cell_type": "code",
   "execution_count": 210,
   "metadata": {},
   "outputs": [],
   "source": [
    "def turnover_event(G,timestep):\n",
    "    exposure_list = np.array([[i,G.nodes[i][\"data\"].exposure] for i in range(N)])\n",
    "    #print(exposure_list[:,1])\n",
    "    probs = np.divide(exposure_list[:,1], np.sum(exposure_list[:,1]))\n",
    "    #print(probs)\n",
    "\n",
    "    #chooses num_turnover agents for replacement\n",
    "    turnover_list = np.random.choice(exposure_list[:,0],replace = False, size = num_turnover,p=probs)\n",
    "    for n in turnover_list:\n",
    "        G.nodes[n][\"data\"] = agent(n)\n",
    "    #print(\"turnover_event(). turnover event: {} replaced\".format(turnover_list))"
   ]
  },
  {
   "cell_type": "markdown",
   "metadata": {},
   "source": [
    "### Helper functions: extracting data <a class=\"anchor\" id=\"helper-extract\"></a>"
   ]
  },
  {
   "cell_type": "code",
   "execution_count": 211,
   "metadata": {},
   "outputs": [],
   "source": [
    "def create_csv(file_path):\n",
    "    #create variable names for behaviors to be included in simulation\n",
    "    behavior_list = [\"behavior_{}_{}\".format(behavior.name,behavior.payoff) for behavior in all_behaviors.values()]\n",
    "    labels=[\"A_mat\",\"I_mat\",\"S_mat\",\"P_mat\"]\n",
    "    agent_matrix_list = [\"behavior_{}_{}\".format(behavior.name,label) for behavior in all_behaviors.values() for label in labels]\n",
    "\n",
    "    #writes header for main data\n",
    "    with open(file_path,\"w\") as fout:\n",
    "        fout.write(\"sim,turnover,graph_type,pop_size,memory_window,NBDA_type,NBDA_basehazard,NBDA_s_param,NBDA_z_jt_type,NBDA_conformity,EWA_soc_info_weight,EWA_recent_payoff_weight,EWA_conformity,EWA_inverse_temp,timestep,num_know_novel,{}\\n\".format(\",\".join(behavior_list)))"
   ]
  },
  {
   "cell_type": "code",
   "execution_count": 212,
   "metadata": {},
   "outputs": [],
   "source": [
    "def write_csv(file_path,sim_num,timestep,num_know_novel,beh_freqs):\n",
    "    behavior_counts = [str(beh) for beh in beh_freqs.values()]\n",
    "    #print(behavior_counts)\n",
    "    count_string = \",\".join(behavior_counts)\n",
    "\n",
    "    #writes header for main data\n",
    "    with open(file_path,\"a+\") as fout:\n",
    "        fout.write(\"{},{},{},{},{},{},{},{},{},{},{},{},{},{},{},{},{}\\n\".format(sim_num,turnover,graph_type,N,memory_window,NBDA_type,base_hazard,s_param,z_jt_type,NBDA_conformity,EWA_s_i,EWA_g_i,EWA_conformity,EWA_inverse_temp,timestep,num_know_novel,count_string))"
   ]
  },
  {
   "cell_type": "markdown",
   "metadata": {},
   "source": [
    "## Running the simulation <a class=\"anchor\" id=\"running\"></a>\n",
    "\n",
    "Finally, it's time to run the thing. This tutorial notebook has implemented a simpler version that runs one point in parameter space at a time, and doesn't capture full information from the agent's matrices. The full python version uses multi-threading to run these simulations much faster, across many points in parameter space.\n",
    "\n",
    "### Simulation parameters <a class=\"anchor\" id=\"sim_params\"></a>"
   ]
  },
  {
   "cell_type": "code",
   "execution_count": 213,
   "metadata": {},
   "outputs": [],
   "source": [
    "#simulation parameters\n",
    "replicates=3\n",
    "t_steps = 100 #timesteps to run simulation\n",
    "master_sim_num=0\n",
    "\n",
    "#where raw data will be put\n",
    "directory_path=\"../raw_data\"\n",
    "\n",
    "#where concatenated dataframes will be put after all sims finish running\n",
    "new_directory_path=\"../concat_data\""
   ]
  },
  {
   "cell_type": "markdown",
   "metadata": {},
   "source": [
    "### Population parameters <a class=\"anchor\" id=\"pop_params\"></a>"
   ]
  },
  {
   "cell_type": "code",
   "execution_count": 214,
   "metadata": {},
   "outputs": [],
   "source": [
    "### Population parameters ###\n",
    "N = 20 #population size\n",
    "initial_knowledgable_prop = 1 #initial proportion of knowledgable individuals in the population\n",
    "graph_type = \"random\" #sets network structure\n",
    "custom_adj_list_filename = \"\"\n",
    "turnover = False #toggle turnover events\n",
    "turnover_interval = 10 #interval between turnover events\n",
    "num_turnover = 2 #number of individuals turned over"
   ]
  },
  {
   "cell_type": "markdown",
   "metadata": {},
   "source": [
    "### EWA parameters <a class=\"anchor\" id=\"EWA_params\"></a>"
   ]
  },
  {
   "cell_type": "code",
   "execution_count": 215,
   "metadata": {},
   "outputs": [],
   "source": [
    "#EWA Parameters\n",
    "EWA_s_i = .5 #social information bias EWA values\n",
    "EWA_g_i = .5 #recent payoff bias EWA values\n",
    "EWA_conformity = 1 #conformity exponent EWA values\n",
    "EWA_inverse_temp = 1 #sensitivity to differences in payoffs\n"
   ]
  },
  {
   "cell_type": "markdown",
   "metadata": {},
   "source": [
    "### NBDA parameters <a class=\"anchor\" id=\"NBDA_params\"></a>"
   ]
  },
  {
   "cell_type": "code",
   "execution_count": 216,
   "metadata": {},
   "outputs": [],
   "source": [
    "### NBDA parameters ###\n",
    "NBDA_type = 0 # 0: Unbounded general form; 1: bounded, linked S and (1-S); NEED TO ADD: ILV form allowing for effects for social AND individual learning, requires vectors Gamma_i, Beta_i\n",
    "NBDA_conformity = 1\n",
    "s_param = 5 #s parameter from NBDA indicating strength of social learning per unit of connection\n",
    "z_jt_type = \"proportional\" #\"binary\" or \"proportional\", proportional assigns z_j(t) a number between [0,1] depending on how frequently the produced behavior in previous timestep\n",
    "asocial_learning = True #True or false, depending on if asocial learning occurs\n",
    "base_hazard = .01 #the base hazard is the underlying rate in every timestep that the behavior could be acquired\n",
    "keenness = 1 #this is the ILV value passed to NBDA function, indicates aptitude for individual learning\n",
    "beh_per_TS = 1 #behaviors individuals perform per timestep\n",
    "memory_window = 25 #how far back the agent can remember (in time steps) the behaviors that other agents produce"
   ]
  },
  {
   "cell_type": "code",
   "execution_count": 217,
   "metadata": {},
   "outputs": [],
   "source": [
    "all_behaviors = {\"a\": behavior(name = \"a\", payoff = .5, base_haz = base_hazard),\n",
    "                 \"b\": behavior(\"b\", 1, base_hazard)}"
   ]
  },
  {
   "cell_type": "markdown",
   "metadata": {},
   "source": [
    "### Run the sim <a class=\"anchor\" id=\"run_sim\"></a>"
   ]
  },
  {
   "cell_type": "code",
   "execution_count": 218,
   "metadata": {},
   "outputs": [
    {
     "name": "stdout",
     "output_type": "stream",
     "text": [
      "simulation0 EWA(s_i0.5 g_i0.5 conformity1 inverse_temp1) NBDA(s_param5, z_jt_typeproportional, memory_window25)\n",
      "simulation1 EWA(s_i0.5 g_i0.5 conformity1 inverse_temp1) NBDA(s_param5, z_jt_typeproportional, memory_window25)\n",
      "simulation2 EWA(s_i0.5 g_i0.5 conformity1 inverse_temp1) NBDA(s_param5, z_jt_typeproportional, memory_window25)\n"
     ]
    }
   ],
   "source": [
    "#repeat sims for number of desired replicates\n",
    "for x in range(replicates):\n",
    "    simulation()"
   ]
  },
  {
   "cell_type": "markdown",
   "metadata": {},
   "source": [
    "### Data management <a class=\"anchor\" id=\"data_mgmt\"></a>"
   ]
  },
  {
   "cell_type": "code",
   "execution_count": 219,
   "metadata": {},
   "outputs": [],
   "source": [
    "#concating dataframes\n",
    "df_list = [pd.read_csv(join(directory_path,f)) for f in listdir(directory_path) if \".csv\" in f]\n",
    "df_concat = pd.concat(df_list)\n",
    "\n",
    "#set final filename here\n",
    "df_concat.to_csv(join(new_directory_path,\"concatenated_data.csv\"), index = False)\n",
    "\n",
    "#remove raw data files\n",
    "for f in listdir(directory_path):\n",
    "    if \".csv\" in f:\n",
    "        remove(join(directory_path,f))"
   ]
  },
  {
   "cell_type": "code",
   "execution_count": null,
   "metadata": {},
   "outputs": [],
   "source": []
  }
 ],
 "metadata": {
  "kernelspec": {
   "display_name": "Python 3",
   "language": "python",
   "name": "python3"
  },
  "language_info": {
   "codemirror_mode": {
    "name": "ipython",
    "version": 3
   },
   "file_extension": ".py",
   "mimetype": "text/x-python",
   "name": "python",
   "nbconvert_exporter": "python",
   "pygments_lexer": "ipython3",
   "version": "3.8.8"
  }
 },
 "nbformat": 4,
 "nbformat_minor": 4
}
